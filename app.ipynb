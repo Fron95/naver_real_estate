{
 "cells": [
  {
   "cell_type": "code",
   "execution_count": 1,
   "metadata": {},
   "outputs": [
    {
     "name": "stdout",
     "output_type": "stream",
     "text": [
      "Chrome browser initialized.\n",
      "15.85712742805481 초가소요되었습니다. 쿠키가져오는데\n",
      "[{'domain': '.naver.com', 'expiry': 1755101010, 'httpOnly': False, 'name': 'NNB', 'path': '/', 'sameSite': 'None', 'secure': True, 'value': 'CS7NFUKTL6GWM'}, {'domain': 'new.land.naver.com', 'httpOnly': False, 'name': 'REALESTATE', 'path': '/', 'sameSite': 'Lax', 'secure': False, 'value': 'Wed%20Jul%2010%202024%2001%3A03%3A30%20GMT%2B0900%20(KST)'}, {'domain': '.naver.com', 'expiry': 1755101010, 'httpOnly': False, 'name': 'NAC', 'path': '/', 'sameSite': 'Strict', 'secure': True, 'value': 'lfIUDYgqVPN6A'}, {'domain': 'new.land.naver.com', 'expiry': 1755101010, 'httpOnly': False, 'name': 'wcs_bt', 'path': '/', 'sameSite': 'Lax', 'secure': False, 'value': '4f99b5681ce60:1720541010'}, {'domain': '.new.land.naver.com', 'expiry': 1755101010, 'httpOnly': False, 'name': '_fwb', 'path': '/', 'sameSite': 'Lax', 'secure': False, 'value': '204CcKDGRcoblUS8i3YFWjg.1720541010247'}, {'domain': '.naver.com', 'expiry': 1720627410, 'httpOnly': False, 'name': 'NACT', 'path': '/complexes', 'sameSite': 'Lax', 'secure': False, 'value': '1'}]\n"
     ]
    },
    {
     "ename": "SystemExit",
     "evalue": "0",
     "output_type": "error",
     "traceback": [
      "An exception has occurred, use %tb to see the full traceback.\n",
      "\u001b[1;31mSystemExit\u001b[0m\u001b[1;31m:\u001b[0m 0\n"
     ]
    },
    {
     "name": "stderr",
     "output_type": "stream",
     "text": [
      "c:\\hellodear\\projects\\naver_real_estate\\venv\\Lib\\site-packages\\IPython\\core\\interactiveshell.py:3585: UserWarning: To exit: use 'exit', 'quit', or Ctrl-D.\n",
      "  warn(\"To exit: use 'exit', 'quit', or Ctrl-D.\", stacklevel=1)\n"
     ]
    }
   ],
   "source": [
    "import sys\n",
    "from PySide6.QtWidgets import QApplication, QMainWindow\n",
    "from app import Ui_MainWindow  # 변환된 UI 파일 import\n",
    "from PySide6.QtGui import QMovie\n",
    "import requests\n",
    "import time\n",
    "class MainWindow(QMainWindow, Ui_MainWindow):\n",
    "    def __init__(self):\n",
    "        super(MainWindow, self).__init__()\n",
    "        self.setupUi(self)\n",
    "\n",
    "\n",
    "if __name__ == \"__main__\":\n",
    "    app = QApplication(sys.argv)\n",
    "    window = MainWindow()\n",
    "    window.show()\n",
    "    sys.exit(app.exec())\n",
    "\n",
    "\n",
    "    \n"
   ]
  },
  {
   "cell_type": "code",
   "execution_count": 3,
   "metadata": {},
   "outputs": [
    {
     "name": "stdout",
     "output_type": "stream",
     "text": [
      "GIF downloaded successfully!\n"
     ]
    }
   ],
   "source": [
    "import requests\n",
    "url = \"https://media4.giphy.com/media/v1.Y2lkPTc5MGI3NjExczRkbzVjZGR2YXc5c3kyNHN4YmY1d2tibnVxdTNsdDVweGh4aGg4MyZlcD12MV9pbnRlcm5hbF9naWZfYnlfaWQmY3Q9cw/pUkri81HELnQ5bP4nT/giphy.gif\"\n",
    "response = requests.get(url, stream=True)\n",
    "\n",
    "if response.status_code == 200:\n",
    "    with open(\"downloaded.gif\", \"wb\") as f:\n",
    "        for chunk in response.iter_content(chunk_size=1024):\n",
    "            if chunk:\n",
    "                f.write(chunk)\n",
    "    print(\"GIF downloaded successfully!\")\n",
    "else:\n",
    "    print(\"Failed to download GIF.\")\n"
   ]
  }
 ],
 "metadata": {
  "kernelspec": {
   "display_name": "venv",
   "language": "python",
   "name": "python3"
  },
  "language_info": {
   "codemirror_mode": {
    "name": "ipython",
    "version": 3
   },
   "file_extension": ".py",
   "mimetype": "text/x-python",
   "name": "python",
   "nbconvert_exporter": "python",
   "pygments_lexer": "ipython3",
   "version": "3.11.5"
  }
 },
 "nbformat": 4,
 "nbformat_minor": 2
}
